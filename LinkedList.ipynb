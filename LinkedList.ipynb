{
  "nbformat": 4,
  "nbformat_minor": 0,
  "metadata": {
    "colab": {
      "name": "LinkedList.ipynb",
      "provenance": [],
      "collapsed_sections": [],
      "authorship_tag": "ABX9TyOLjxfpW0M7Dh8gx7NX8U8E",
      "include_colab_link": true
    },
    "kernelspec": {
      "name": "python3",
      "display_name": "Python 3"
    }
  },
  "cells": [
    {
      "cell_type": "markdown",
      "metadata": {
        "id": "view-in-github",
        "colab_type": "text"
      },
      "source": [
        "<a href=\"https://colab.research.google.com/github/lakshmi1444/data-Structures/blob/master/LinkedList.ipynb\" target=\"_parent\"><img src=\"https://colab.research.google.com/assets/colab-badge.svg\" alt=\"Open In Colab\"/></a>"
      ]
    },
    {
      "cell_type": "code",
      "metadata": {
        "id": "baz9ynrC028J",
        "colab_type": "code",
        "colab": {}
      },
      "source": [
        "class Node:\n",
        "  def __init__(self,data,next=None):\n",
        "    self.data = data\n",
        "    self.next = next"
      ],
      "execution_count": 0,
      "outputs": []
    },
    {
      "cell_type": "code",
      "metadata": {
        "id": "qYlTywmE1VWU",
        "colab_type": "code",
        "colab": {}
      },
      "source": [
        "class LinkedList:\n",
        "  def __init__(self):\n",
        "    self.head= None\n",
        "  def insert_at_begining(self,data):\n",
        "    if self.head is None:\n",
        "      self.head =Node(data)\n",
        "    else:\n",
        "      print(self.head.data)\n",
        "      self.head= Node(data,self.head)\n",
        "  def insert_at_end(self,data):\n",
        "    if self.head is None:\n",
        "      self.head = Node(data)\n",
        "      return\n",
        "    it = self.head\n",
        "    while it.next:\n",
        "      it = it.next\n",
        "    it.next =Node(data,None)\n",
        "  def insert_at_index(self,index,data):\n",
        "    if index<0 and index > self.lengthofLinkedList():\n",
        "      raise Exception(\"Invalid Exception \")\n",
        "    \n",
        "    if index ==0:\n",
        "      self.insert_at_begining(data)\n",
        "      return \n",
        "   \n",
        "    count =0\n",
        "    it = self.head\n",
        "    while it :\n",
        "      if count == index -1:\n",
        "        address = it.next\n",
        "        it.next = Node(data,address)\n",
        "        break\n",
        "      it = it.next\n",
        "      count += 1\n",
        "\n",
        "  def lengthofLinkedList(self):\n",
        "    count =0\n",
        "    it = self.head\n",
        "    while it :\n",
        "      it = it.next\n",
        "      count +=1\n",
        "    return count\n",
        "\n",
        "      \n",
        "  def delete_at_index(self,index):\n",
        "    if index <0 and index >self.lengthofLinkedList():\n",
        "      raise Exception(\"Invalid Exception \")\n",
        "    count =0\n",
        "    it = self.head\n",
        "    if index == 0:\n",
        "      self.head= self.head.next\n",
        "      return\n",
        "    while it:\n",
        "       if  count==index-1:\n",
        "         address = it.next.next\n",
        "         it.next= address\n",
        "         break\n",
        "       it = it.next\n",
        "       count += 1 \n",
        "  def insert_values(self,values):\n",
        "    self.head  = None\n",
        "    for data in values:\n",
        "      self.insert_at_end(data)\n",
        "\n",
        "  def printLinkedList(self):\n",
        "    if self.head is None:\n",
        "      print(\"Empty Linked List\")\n",
        "      return\n",
        "    else:\n",
        "      it = self.head\n",
        "      llstr = \"\"\n",
        "      while it:\n",
        "        # print(llstr)\n",
        "        llstr += str(it.data)+\" ---> \"\n",
        "        it = it.next\n",
        "      print(llstr)\n",
        "  \n",
        "  def remove_by_value(self, data):\n",
        "      # Remove first node that contains data\n",
        "      if self.head is None:\n",
        "        return \n",
        "      it = self.head\n",
        "      count =0\n",
        "      elementFound= False\n",
        "      if it.data == data:\n",
        "        self.head = it.next\n",
        "        elementFound=True\n",
        "        return elementFound\n",
        "      \n",
        "      while it.next :\n",
        "        if it.next.data == data :\n",
        "          it.next = it.next.next\n",
        "          elementFound=True\n",
        "          break\n",
        "        \n",
        "        it = it.next\n",
        "      return elementFound\n",
        "\n",
        "\n",
        "\n",
        "  def insert_after_value(self, data_after, data_to_insert):\n",
        "    # Search for first occurance of data_after value in linked list\n",
        "    # Now insert data_to_insert after data_after node\n",
        "    \n",
        "    if self.head is None:\n",
        "      return \n",
        "    it = self.head\n",
        "    count =0\n",
        "    \n",
        "    while it :\n",
        "      if it.data ==data_after :\n",
        "        \n",
        "        address = it.next \n",
        "        new_node = Node(data_to_insert,address)\n",
        "        it.next = new_node\n",
        "        break\n",
        "     \n",
        "      it = it.next\n"
      ],
      "execution_count": 0,
      "outputs": []
    },
    {
      "cell_type": "code",
      "metadata": {
        "id": "N6cMdXM-KMqG",
        "colab_type": "code",
        "colab": {
          "base_uri": "https://localhost:8080/",
          "height": 34
        },
        "outputId": "95d13fbf-3b0e-4717-d370-e499ed3444f1"
      },
      "source": [
        "ll = LinkedList()\n",
        "ll.insert_values([\"banana\",\"mango\",\"grapes\",\"orange\"])\n",
        "ll.printLinkedList()"
      ],
      "execution_count": 74,
      "outputs": [
        {
          "output_type": "stream",
          "text": [
            "banana ---> mango ---> grapes ---> orange ---> \n"
          ],
          "name": "stdout"
        }
      ]
    },
    {
      "cell_type": "code",
      "metadata": {
        "id": "mcPZh_g5KQEZ",
        "colab_type": "code",
        "colab": {
          "base_uri": "https://localhost:8080/",
          "height": 34
        },
        "outputId": "4adeaf5c-f8ca-4460-cdd8-c3558d4bd9d9"
      },
      "source": [
        "\n",
        "ll.insert_after_value(\"orange\",\"apple\") # insert apple after mango\n",
        "ll.printLinkedList()"
      ],
      "execution_count": 75,
      "outputs": [
        {
          "output_type": "stream",
          "text": [
            "banana ---> mango ---> grapes ---> orange ---> apple ---> \n"
          ],
          "name": "stdout"
        }
      ]
    },
    {
      "cell_type": "code",
      "metadata": {
        "id": "2zlOVrxvNSO6",
        "colab_type": "code",
        "colab": {
          "base_uri": "https://localhost:8080/",
          "height": 34
        },
        "outputId": "bcb645ef-921f-4d3a-801e-9c5e157801a5"
      },
      "source": [
        "ll.remove_by_value(\"orange\") # remove orange from linked list\n",
        "ll.printLinkedList()"
      ],
      "execution_count": 76,
      "outputs": [
        {
          "output_type": "stream",
          "text": [
            "banana ---> mango ---> grapes ---> apple ---> \n"
          ],
          "name": "stdout"
        }
      ]
    },
    {
      "cell_type": "code",
      "metadata": {
        "id": "dLp8R7hBOLm6",
        "colab_type": "code",
        "colab": {
          "base_uri": "https://localhost:8080/",
          "height": 51
        },
        "outputId": "799b3956-51be-449a-f6d5-818843ca0723"
      },
      "source": [
        "\n",
        "print(ll.remove_by_value(\"figs\"))\n",
        "ll.printLinkedList()"
      ],
      "execution_count": 77,
      "outputs": [
        {
          "output_type": "stream",
          "text": [
            "False\n",
            "banana ---> mango ---> grapes ---> apple ---> \n"
          ],
          "name": "stdout"
        }
      ]
    },
    {
      "cell_type": "code",
      "metadata": {
        "id": "f8h9_1oYHrnR",
        "colab_type": "code",
        "colab": {
          "base_uri": "https://localhost:8080/",
          "height": 34
        },
        "outputId": "9f3df24f-d152-44a4-8431-e4a6e357afa2"
      },
      "source": [
        "\n",
        "ll.remove_by_value(\"banana\")\n",
        "ll.remove_by_value(\"mango\")\n",
        "ll.remove_by_value(\"apple\")\n",
        "ll.remove_by_value(\"grapes\")\n",
        "ll.printLinkedList()"
      ],
      "execution_count": 78,
      "outputs": [
        {
          "output_type": "stream",
          "text": [
            "Empty Linked List\n"
          ],
          "name": "stdout"
        }
      ]
    },
    {
      "cell_type": "code",
      "metadata": {
        "id": "vITY4n9-2iQi",
        "colab_type": "code",
        "outputId": "6e90a0fd-5753-4b8a-ba17-10124387bf35",
        "colab": {
          "base_uri": "https://localhost:8080/",
          "height": 156
        }
      },
      "source": [
        "ll= LinkedList()\n",
        "ll.insert_at_begining(3)\n",
        "# ll.printLinkedList()\n",
        "ll.insert_at_begining(6)\n",
        "# ll.printLinkedList()\n",
        "ll.insert_at_end(4)\n",
        "ll.printLinkedList()\n",
        "\n",
        "print(\"insert at 0\")\n",
        "ll.insert_at_index(0,9)\n",
        "ll.printLinkedList()\n",
        "ll.insert_at_index(3,5)\n",
        "ll.printLinkedList()\n",
        "ll.delete_at_index(0)\n",
        "ll.printLinkedList()\n",
        "ll.lengthofLinkedList()\n",
        "ll.insert_values([1,2,2,4])\n",
        "ll.printLinkedList()"
      ],
      "execution_count": 79,
      "outputs": [
        {
          "output_type": "stream",
          "text": [
            "3\n",
            "6 ---> 3 ---> 4 ---> \n",
            "insert at 0\n",
            "6\n",
            "9 ---> 6 ---> 3 ---> 4 ---> \n",
            "9 ---> 6 ---> 3 ---> 5 ---> 4 ---> \n",
            "6 ---> 3 ---> 5 ---> 4 ---> \n",
            "1 ---> 2 ---> 2 ---> 4 ---> \n"
          ],
          "name": "stdout"
        }
      ]
    },
    {
      "cell_type": "markdown",
      "metadata": {
        "id": "KEidpz8jS41j",
        "colab_type": "text"
      },
      "source": [
        "Yolo Losses:\n",
        "1. Classification Loss\n",
        "2. Localization Loss\n",
        "3. Confidence Loss"
      ]
    },
    {
      "cell_type": "code",
      "metadata": {
        "id": "tVIWFaji6Do8",
        "colab_type": "code",
        "colab": {}
      },
      "source": [
        ""
      ],
      "execution_count": 0,
      "outputs": []
    }
  ]
}