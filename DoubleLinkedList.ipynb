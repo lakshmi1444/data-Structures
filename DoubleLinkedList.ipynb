{
  "nbformat": 4,
  "nbformat_minor": 0,
  "metadata": {
    "colab": {
      "name": "DoubleLinkedList.ipynb",
      "provenance": [],
      "collapsed_sections": [],
      "authorship_tag": "ABX9TyP0gUpVcbpClbZH3I6m6B+D",
      "include_colab_link": true
    },
    "kernelspec": {
      "name": "python3",
      "display_name": "Python 3"
    }
  },
  "cells": [
    {
      "cell_type": "markdown",
      "metadata": {
        "id": "view-in-github",
        "colab_type": "text"
      },
      "source": [
        "<a href=\"https://colab.research.google.com/github/lakshmi1444/data-Structures/blob/master/DoubleLinkedList.ipynb\" target=\"_parent\"><img src=\"https://colab.research.google.com/assets/colab-badge.svg\" alt=\"Open In Colab\"/></a>"
      ]
    },
    {
      "cell_type": "code",
      "metadata": {
        "id": "HMoGvQtKSlDM",
        "colab_type": "code",
        "colab": {}
      },
      "source": [
        "class Node:\n",
        "  def __init__(self,data,next=None,prev=None):\n",
        "    self.data=data\n",
        "    self.prev= prev\n",
        "    self.next = next\n",
        "  "
      ],
      "execution_count": 0,
      "outputs": []
    },
    {
      "cell_type": "code",
      "metadata": {
        "id": "4iMqM2M5ScRh",
        "colab_type": "code",
        "colab": {}
      },
      "source": [
        "class DoubleLinkedList:\n",
        "  def __init__(self):\n",
        "    self.head= None\n",
        "    \n",
        "  def print_forward(self):\n",
        "    if self.head is None:\n",
        "      print(\"Empty DoubleLinkedList\")\n",
        "      return\n",
        "    else:\n",
        "      it = self.head\n",
        "      llstr = \"\"\n",
        "      while it:\n",
        "        llstr += str(it.data)+\" ---> \"\n",
        "        it = it.next\n",
        "      print(llstr)\n",
        "    \n",
        "  def get_lastnode (self):\n",
        "    itr = self.head\n",
        "    while itr.next :\n",
        "      itr = itr.next\n",
        "    return itr\n",
        "  def print_backward(self):\n",
        "    \n",
        "    itr = self.get_lastnode()\n",
        "    llstr = \"\"\n",
        "    while itr:\n",
        "      llstr += str(itr.data)+\" ---> \"\n",
        "      itr = itr.prev\n",
        "    print(llstr)\n",
        "  def get_length(self):\n",
        "        count = 0\n",
        "        itr = self.head\n",
        "        while itr:\n",
        "            count+=1\n",
        "            itr = itr.next\n",
        "\n",
        "        return count\n",
        "\n",
        "  def insert_at_begining(self,data):\n",
        "    if self.head is None:\n",
        "      self.head = Node(data)\n",
        "      \n",
        "      return\n",
        "    \n",
        "    newnode_address =Node(data,self.head,None)\n",
        "    \n",
        "    self.head.prev =newnode_address\n",
        "    self.head =newnode_address\n",
        "  \n",
        "  def insert_at_index(self,index,data):\n",
        "    \n",
        "    if index <0 or index >self.get_length():\n",
        "      \n",
        "      raise Exception(\"Invalid Index\")\n",
        "    if index ==0:\n",
        "      self.insert_at_begining(data)\n",
        "    count =0\n",
        "    itr = self.head\n",
        "    while itr :\n",
        "      if count == index -1:\n",
        "        node = Node(data,itr.next,itr)\n",
        "        if itr.next:\n",
        "          itr.next.prev = node\n",
        "        itr.next = node\n",
        "        break\n",
        "        \n",
        "\n",
        "      itr = itr.next\n",
        "      count +=1\n",
        "\n",
        "\n",
        "\n",
        "  def insert_at_end(self,data):\n",
        "    if self.head is None:\n",
        "      self.head = Node(data)\n",
        "      return\n",
        "    it = self.head\n",
        "    while it.next :\n",
        "      it = it.next\n",
        "\n",
        "    new_node = Node(data,None,it)\n",
        "    it.next = new_node\n",
        "  def insert_values(self,values):\n",
        "    for data in values:\n",
        "      self.insert_at_end(data)\n",
        "\n",
        "  def delete_at_index(self,index):\n",
        "    if index <0 or index >self.get_length():\n",
        "      # print(index)\n",
        "      raise Exception(\"Invalid Index\")\n",
        "    count =0\n",
        "    if index ==0:\n",
        "      self.head.prev=None\n",
        "      self.head = self.head.next\n",
        "      return\n",
        "    itr = self.head\n",
        "    while itr:\n",
        "      if count == index-1 :\n",
        "        adrees =itr.next.next\n",
        "        prev = itr.next.prev\n",
        "       \n",
        "        # print(adrees)  \n",
        "        itr.next = adrees\n",
        "        if itr.next:\n",
        "          itr.next.prev = prev\n",
        "        break\n",
        "\n",
        "      itr =itr.next\n",
        "      count +=1\n"
      ],
      "execution_count": 0,
      "outputs": []
    },
    {
      "cell_type": "code",
      "metadata": {
        "id": "U5sKCu1zy9wV",
        "colab_type": "code",
        "colab": {
          "base_uri": "https://localhost:8080/",
          "height": 34
        },
        "outputId": "255b138a-f499-492a-fc8f-2a712dea5b46"
      },
      "source": [
        "ll = DoubleLinkedList()\n",
        "ll.insert_values([\"banana\",\"mango\",\"grapes\",\"orange\"])\n",
        "ll.print_forward()\n"
      ],
      "execution_count": 3,
      "outputs": [
        {
          "output_type": "stream",
          "text": [
            "banana ---> mango ---> grapes ---> orange ---> \n"
          ],
          "name": "stdout"
        }
      ]
    },
    {
      "cell_type": "code",
      "metadata": {
        "id": "4D7xjXMX0iO4",
        "colab_type": "code",
        "colab": {
          "base_uri": "https://localhost:8080/",
          "height": 34
        },
        "outputId": "9e601fe9-d437-406e-a86f-03098ede6758"
      },
      "source": [
        "ll.print_backward()\n"
      ],
      "execution_count": 4,
      "outputs": [
        {
          "output_type": "stream",
          "text": [
            "orange ---> grapes ---> mango ---> banana ---> \n"
          ],
          "name": "stdout"
        }
      ]
    },
    {
      "cell_type": "code",
      "metadata": {
        "id": "U7t56sMT0lpi",
        "colab_type": "code",
        "colab": {
          "base_uri": "https://localhost:8080/",
          "height": 86
        },
        "outputId": "0242b871-bb95-4c58-a112-fc80d07fc192"
      },
      "source": [
        "ll.insert_at_end(\"figs\")\n",
        "ll.print_forward()\n",
        "ll.insert_at_index(0,\"jackfruit\")\n",
        "ll.print_forward()\n",
        "ll.insert_at_index(6,\"dates\")\n",
        "ll.print_forward()\n",
        "ll.insert_at_index(2,\"kiwi\")\n",
        "ll.print_forward()"
      ],
      "execution_count": 5,
      "outputs": [
        {
          "output_type": "stream",
          "text": [
            "banana ---> mango ---> grapes ---> orange ---> figs ---> \n",
            "jackfruit ---> banana ---> mango ---> grapes ---> orange ---> figs ---> \n",
            "jackfruit ---> banana ---> mango ---> grapes ---> orange ---> figs ---> dates ---> \n",
            "jackfruit ---> banana ---> kiwi ---> mango ---> grapes ---> orange ---> figs ---> dates ---> \n"
          ],
          "name": "stdout"
        }
      ]
    },
    {
      "cell_type": "code",
      "metadata": {
        "id": "58SDlvCGVXf0",
        "colab_type": "code",
        "colab": {}
      },
      "source": [
        "dl =DoubleLinkedList()\n",
        "dl.insert_at_begining(4)\n",
        "dl.insert_at_begining(5)\n",
        "dl.insert_at_end(6)"
      ],
      "execution_count": 0,
      "outputs": []
    },
    {
      "cell_type": "code",
      "metadata": {
        "id": "FS6VCrI7lf2E",
        "colab_type": "code",
        "outputId": "e6766221-533f-45fd-c538-92abacf78f6e",
        "colab": {
          "base_uri": "https://localhost:8080/",
          "height": 34
        }
      },
      "source": [
        "dl.print_forward()"
      ],
      "execution_count": 7,
      "outputs": [
        {
          "output_type": "stream",
          "text": [
            "5 ---> 4 ---> 6 ---> \n"
          ],
          "name": "stdout"
        }
      ]
    },
    {
      "cell_type": "code",
      "metadata": {
        "id": "MNWom0rZlMaq",
        "colab_type": "code",
        "colab": {}
      },
      "source": [
        "dl.delete_at_index(1)"
      ],
      "execution_count": 0,
      "outputs": []
    },
    {
      "cell_type": "code",
      "metadata": {
        "id": "8NINjYr2VdFa",
        "colab_type": "code",
        "outputId": "298481c1-33fa-48bb-8c6c-d710a3d74032",
        "colab": {
          "base_uri": "https://localhost:8080/",
          "height": 34
        }
      },
      "source": [
        "dl.print_forward()\n"
      ],
      "execution_count": 9,
      "outputs": [
        {
          "output_type": "stream",
          "text": [
            "5 ---> 6 ---> \n"
          ],
          "name": "stdout"
        }
      ]
    },
    {
      "cell_type": "code",
      "metadata": {
        "id": "0pi9g9Zgo-JW",
        "colab_type": "code",
        "outputId": "8c8c4b5d-172f-4337-d6f6-3fb25639e153",
        "colab": {
          "base_uri": "https://localhost:8080/",
          "height": 34
        }
      },
      "source": [
        "dl.get_length()"
      ],
      "execution_count": 10,
      "outputs": [
        {
          "output_type": "execute_result",
          "data": {
            "text/plain": [
              "2"
            ]
          },
          "metadata": {
            "tags": []
          },
          "execution_count": 10
        }
      ]
    },
    {
      "cell_type": "code",
      "metadata": {
        "id": "7Zz5GM2oqcht",
        "colab_type": "code",
        "colab": {}
      },
      "source": [
        ""
      ],
      "execution_count": 0,
      "outputs": []
    }
  ]
}