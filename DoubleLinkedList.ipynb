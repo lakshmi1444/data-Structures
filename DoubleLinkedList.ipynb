{
  "nbformat": 4,
  "nbformat_minor": 0,
  "metadata": {
    "colab": {
      "name": "DoubleLinkedList.ipynb",
      "provenance": [],
      "collapsed_sections": [],
      "authorship_tag": "ABX9TyPEcx2+xMUK6z6jxkngYFP4",
      "include_colab_link": true
    },
    "kernelspec": {
      "name": "python3",
      "display_name": "Python 3"
    }
  },
  "cells": [
    {
      "cell_type": "markdown",
      "metadata": {
        "id": "view-in-github",
        "colab_type": "text"
      },
      "source": [
        "<a href=\"https://colab.research.google.com/github/lakshmi1444/data-Structures/blob/master/DoubleLinkedList.ipynb\" target=\"_parent\"><img src=\"https://colab.research.google.com/assets/colab-badge.svg\" alt=\"Open In Colab\"/></a>"
      ]
    },
    {
      "cell_type": "code",
      "metadata": {
        "id": "HMoGvQtKSlDM",
        "colab_type": "code",
        "colab": {}
      },
      "source": [
        "class Node:\n",
        "  def __init__(self,data,next=None,prev=None):\n",
        "    self.data=data\n",
        "    self.prev= prev\n",
        "    self.next = next\n",
        "  "
      ],
      "execution_count": 0,
      "outputs": []
    },
    {
      "cell_type": "code",
      "metadata": {
        "id": "4iMqM2M5ScRh",
        "colab_type": "code",
        "colab": {}
      },
      "source": [
        "class DoubleLinkedList:\n",
        "  def __init__(self):\n",
        "    self.head= None\n",
        "    \n",
        "  def printDoubleLinkedList(self):\n",
        "    if self.head is None:\n",
        "      print(\"Empty DoubleLinkedList\")\n",
        "      return\n",
        "    else:\n",
        "      it = self.head\n",
        "      llstr = \"\"\n",
        "      while it:\n",
        "        llstr += str(it.data)+\" ---> \"\n",
        "        it = it.next\n",
        "      print(llstr)\n",
        "    \n",
        "  def get_lastnode (self):\n",
        "    itr = self.head\n",
        "    while itr.next :\n",
        "      itr = itr.next\n",
        "    return itr\n",
        "  def reverseDoubleLinkedList(self):\n",
        "    \n",
        "    itr = self.get_lastnode()\n",
        "    llstr = \"\"\n",
        "    while itr:\n",
        "      llstr += str(itr.data)+\" ---> \"\n",
        "      itr = itr.prev\n",
        "    print(llstr)\n",
        "  def get_length(self):\n",
        "        count = 0\n",
        "        itr = self.head\n",
        "        while itr:\n",
        "            count+=1\n",
        "            itr = itr.next\n",
        "\n",
        "        return count\n",
        "\n",
        "  def insert_at_begining(self,data):\n",
        "    if self.head is None:\n",
        "      self.head = Node(data)\n",
        "      \n",
        "      return\n",
        "    \n",
        "    newnode_address =Node(data,self.head,None)\n",
        "    \n",
        "    self.head.prev =newnode_address\n",
        "    self.head =newnode_address\n",
        "  \n",
        "  def insert_at_index(self,index,data):\n",
        "    \n",
        "    if index <0 or index >self.get_length():\n",
        "      \n",
        "      raise Exception(\"Invalid Index\")\n",
        "    if index ==0:\n",
        "      self.insert_at_begining(data)\n",
        "    count =0\n",
        "    itr = self.head\n",
        "    while itr :\n",
        "      if count == index -1:\n",
        "        node = Node(data,itr.next,itr)\n",
        "        if itr.next:\n",
        "          itr.next.prev = node\n",
        "        itr.next = node\n",
        "        break\n",
        "        \n",
        "\n",
        "      itr = itr.next\n",
        "      count +=1\n",
        "\n",
        "\n",
        "\n",
        "  def insert_at_end(self,data):\n",
        "    if self.head is None:\n",
        "      self.head = Node(data)\n",
        "      return\n",
        "    it = self.head\n",
        "    while it.next :\n",
        "      it = it.next\n",
        "\n",
        "    new_node = Node(data,None,it)\n",
        "    it.next = new_node\n",
        "  def delete_at_index(self,index):\n",
        "    if index <0 or index >self.get_length():\n",
        "      print(index)\n",
        "      raise Exception(\"Invalid Index\")\n",
        "    count =0\n",
        "    if index ==0:\n",
        "      self.head.prev=None\n",
        "      self.head = self.head.next\n",
        "      return\n",
        "    itr = self.head\n",
        "    while itr:\n",
        "      if count == index-1 :\n",
        "        adrees =itr.next.next\n",
        "        prev = itr.next.prev\n",
        "       \n",
        "        print(adrees)  \n",
        "        itr.next = adrees\n",
        "        if itr.next:\n",
        "          itr.next.prev = prev\n",
        "        break\n",
        "\n",
        "      itr =itr.next\n",
        "      count +=1\n"
      ],
      "execution_count": 0,
      "outputs": []
    },
    {
      "cell_type": "code",
      "metadata": {
        "id": "58SDlvCGVXf0",
        "colab_type": "code",
        "colab": {}
      },
      "source": [
        "dl =DoubleLinkedList()\n",
        "dl.insert_at_begining(4)\n",
        "dl.insert_at_begining(5)\n",
        "dl.insert_at_end(6)"
      ],
      "execution_count": 0,
      "outputs": []
    },
    {
      "cell_type": "code",
      "metadata": {
        "id": "FS6VCrI7lf2E",
        "colab_type": "code",
        "outputId": "fb660582-ba55-4985-b82c-b96cce54ab51",
        "colab": {
          "base_uri": "https://localhost:8080/",
          "height": 34
        }
      },
      "source": [
        "dl.printDoubleLinkedList()"
      ],
      "execution_count": 48,
      "outputs": [
        {
          "output_type": "stream",
          "text": [
            "5 ---> 4 ---> 6 ---> \n"
          ],
          "name": "stdout"
        }
      ]
    },
    {
      "cell_type": "code",
      "metadata": {
        "id": "MNWom0rZlMaq",
        "colab_type": "code",
        "outputId": "065bf9d0-8fd6-459c-a25a-a2b43d51b08e",
        "colab": {
          "base_uri": "https://localhost:8080/",
          "height": 51
        }
      },
      "source": [
        "print(dl.delete_at_index(1))"
      ],
      "execution_count": 51,
      "outputs": [
        {
          "output_type": "stream",
          "text": [
            "None\n",
            "None\n"
          ],
          "name": "stdout"
        }
      ]
    },
    {
      "cell_type": "code",
      "metadata": {
        "id": "8NINjYr2VdFa",
        "colab_type": "code",
        "outputId": "e9c1936e-db3e-4224-ed4f-964f16407a7f",
        "colab": {
          "base_uri": "https://localhost:8080/",
          "height": 34
        }
      },
      "source": [
        "dl.printDoubleLinkedList()\n"
      ],
      "execution_count": 52,
      "outputs": [
        {
          "output_type": "stream",
          "text": [
            "5 ---> \n"
          ],
          "name": "stdout"
        }
      ]
    },
    {
      "cell_type": "code",
      "metadata": {
        "id": "0pi9g9Zgo-JW",
        "colab_type": "code",
        "outputId": "e4f5467d-aec9-491b-c0e8-13104ce522f5",
        "colab": {
          "base_uri": "https://localhost:8080/",
          "height": 34
        }
      },
      "source": [
        "dl.get_length()"
      ],
      "execution_count": 0,
      "outputs": [
        {
          "output_type": "execute_result",
          "data": {
            "text/plain": [
              "2"
            ]
          },
          "metadata": {
            "tags": []
          },
          "execution_count": 40
        }
      ]
    },
    {
      "cell_type": "code",
      "metadata": {
        "id": "7Zz5GM2oqcht",
        "colab_type": "code",
        "colab": {}
      },
      "source": [
        ""
      ],
      "execution_count": 0,
      "outputs": []
    }
  ]
}